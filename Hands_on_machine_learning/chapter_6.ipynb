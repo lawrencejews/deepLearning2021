{
 "cells": [
  {
   "cell_type": "code",
   "execution_count": null,
   "metadata": {},
   "outputs": [],
   "source": []
  },
  {
   "cell_type": "markdown",
   "metadata": {},
   "source": [
    "## Decison Trees\n",
    "- Using weight, age and Height to determine clothing size"
   ]
  },
  {
   "cell_type": "code",
   "execution_count": 3,
   "metadata": {},
   "outputs": [],
   "source": [
    "import pandas as pd \n",
    "from sklearn.tree import DecisionTreeClassifier, export_graphviz\n",
    "from sklearn.model_selection import train_test_split\n",
    "from sklearn.metrics import confusion_matrix, plot_confusion_matrix \n",
    "import matplotlib.pyplot as plt"
   ]
  },
  {
   "cell_type": "code",
   "execution_count": 4,
   "metadata": {},
   "outputs": [
    {
     "data": {
      "text/html": [
       "<div>\n",
       "<style scoped>\n",
       "    .dataframe tbody tr th:only-of-type {\n",
       "        vertical-align: middle;\n",
       "    }\n",
       "\n",
       "    .dataframe tbody tr th {\n",
       "        vertical-align: top;\n",
       "    }\n",
       "\n",
       "    .dataframe thead th {\n",
       "        text-align: right;\n",
       "    }\n",
       "</style>\n",
       "<table border=\"1\" class=\"dataframe\">\n",
       "  <thead>\n",
       "    <tr style=\"text-align: right;\">\n",
       "      <th></th>\n",
       "      <th>weight</th>\n",
       "      <th>age</th>\n",
       "      <th>height</th>\n",
       "      <th>size</th>\n",
       "    </tr>\n",
       "  </thead>\n",
       "  <tbody>\n",
       "    <tr>\n",
       "      <th>0</th>\n",
       "      <td>62</td>\n",
       "      <td>28.0</td>\n",
       "      <td>172.72</td>\n",
       "      <td>XL</td>\n",
       "    </tr>\n",
       "    <tr>\n",
       "      <th>1</th>\n",
       "      <td>59</td>\n",
       "      <td>36.0</td>\n",
       "      <td>167.64</td>\n",
       "      <td>L</td>\n",
       "    </tr>\n",
       "    <tr>\n",
       "      <th>2</th>\n",
       "      <td>61</td>\n",
       "      <td>34.0</td>\n",
       "      <td>165.10</td>\n",
       "      <td>M</td>\n",
       "    </tr>\n",
       "    <tr>\n",
       "      <th>3</th>\n",
       "      <td>65</td>\n",
       "      <td>27.0</td>\n",
       "      <td>175.26</td>\n",
       "      <td>L</td>\n",
       "    </tr>\n",
       "    <tr>\n",
       "      <th>4</th>\n",
       "      <td>62</td>\n",
       "      <td>45.0</td>\n",
       "      <td>172.72</td>\n",
       "      <td>M</td>\n",
       "    </tr>\n",
       "    <tr>\n",
       "      <th>...</th>\n",
       "      <td>...</td>\n",
       "      <td>...</td>\n",
       "      <td>...</td>\n",
       "      <td>...</td>\n",
       "    </tr>\n",
       "    <tr>\n",
       "      <th>119729</th>\n",
       "      <td>63</td>\n",
       "      <td>42.0</td>\n",
       "      <td>175.26</td>\n",
       "      <td>M</td>\n",
       "    </tr>\n",
       "    <tr>\n",
       "      <th>119730</th>\n",
       "      <td>45</td>\n",
       "      <td>29.0</td>\n",
       "      <td>154.94</td>\n",
       "      <td>S</td>\n",
       "    </tr>\n",
       "    <tr>\n",
       "      <th>119731</th>\n",
       "      <td>61</td>\n",
       "      <td>31.0</td>\n",
       "      <td>172.72</td>\n",
       "      <td>M</td>\n",
       "    </tr>\n",
       "    <tr>\n",
       "      <th>119732</th>\n",
       "      <td>74</td>\n",
       "      <td>31.0</td>\n",
       "      <td>167.64</td>\n",
       "      <td>XL</td>\n",
       "    </tr>\n",
       "    <tr>\n",
       "      <th>119733</th>\n",
       "      <td>70</td>\n",
       "      <td>30.0</td>\n",
       "      <td>167.64</td>\n",
       "      <td>XL</td>\n",
       "    </tr>\n",
       "  </tbody>\n",
       "</table>\n",
       "<p>119734 rows × 4 columns</p>\n",
       "</div>"
      ],
      "text/plain": [
       "        weight   age  height size\n",
       "0           62  28.0  172.72   XL\n",
       "1           59  36.0  167.64    L\n",
       "2           61  34.0  165.10    M\n",
       "3           65  27.0  175.26    L\n",
       "4           62  45.0  172.72    M\n",
       "...        ...   ...     ...  ...\n",
       "119729      63  42.0  175.26    M\n",
       "119730      45  29.0  154.94    S\n",
       "119731      61  31.0  172.72    M\n",
       "119732      74  31.0  167.64   XL\n",
       "119733      70  30.0  167.64   XL\n",
       "\n",
       "[119734 rows x 4 columns]"
      ]
     },
     "execution_count": 4,
     "metadata": {},
     "output_type": "execute_result"
    }
   ],
   "source": [
    "data_import  = pd.read_csv(\"final_test.csv\")\n",
    "data_import"
   ]
  },
  {
   "cell_type": "code",
   "execution_count": 5,
   "metadata": {},
   "outputs": [
    {
     "data": {
      "text/plain": [
       "M       29712\n",
       "S       21924\n",
       "XXXL    21359\n",
       "XL      19119\n",
       "L       17587\n",
       "XXS      9964\n",
       "XXL        69\n",
       "Name: size, dtype: int64"
      ]
     },
     "execution_count": 5,
     "metadata": {},
     "output_type": "execute_result"
    }
   ],
   "source": [
    "data_import[\"size\"].value_counts()"
   ]
  },
  {
   "cell_type": "markdown",
   "metadata": {},
   "source": [
    "### Data Preparation\n",
    "- Remove NA "
   ]
  },
  {
   "cell_type": "code",
   "execution_count": 6,
   "metadata": {},
   "outputs": [
    {
     "name": "stdout",
     "output_type": "stream",
     "text": [
      "Rows Dropped:  581\n"
     ]
    }
   ],
   "source": [
    "data_step_one = data_import.copy()\n",
    "data_step_one = data_step_one.dropna(axis=0)\n",
    "\n",
    "dropped_rows = len(data_import) - len(data_step_one)\n",
    "print(\"Rows Dropped: \", dropped_rows)"
   ]
  },
  {
   "cell_type": "code",
   "execution_count": 7,
   "metadata": {},
   "outputs": [
    {
     "data": {
      "text/html": [
       "<div>\n",
       "<style scoped>\n",
       "    .dataframe tbody tr th:only-of-type {\n",
       "        vertical-align: middle;\n",
       "    }\n",
       "\n",
       "    .dataframe tbody tr th {\n",
       "        vertical-align: top;\n",
       "    }\n",
       "\n",
       "    .dataframe thead th {\n",
       "        text-align: right;\n",
       "    }\n",
       "</style>\n",
       "<table border=\"1\" class=\"dataframe\">\n",
       "  <thead>\n",
       "    <tr style=\"text-align: right;\">\n",
       "      <th></th>\n",
       "      <th>weight</th>\n",
       "      <th>age</th>\n",
       "      <th>height</th>\n",
       "      <th>size</th>\n",
       "    </tr>\n",
       "  </thead>\n",
       "  <tbody>\n",
       "    <tr>\n",
       "      <th>0</th>\n",
       "      <td>62</td>\n",
       "      <td>28.0</td>\n",
       "      <td>172.72</td>\n",
       "      <td>XL</td>\n",
       "    </tr>\n",
       "    <tr>\n",
       "      <th>1</th>\n",
       "      <td>59</td>\n",
       "      <td>36.0</td>\n",
       "      <td>167.64</td>\n",
       "      <td>L</td>\n",
       "    </tr>\n",
       "    <tr>\n",
       "      <th>2</th>\n",
       "      <td>61</td>\n",
       "      <td>34.0</td>\n",
       "      <td>165.10</td>\n",
       "      <td>M</td>\n",
       "    </tr>\n",
       "    <tr>\n",
       "      <th>3</th>\n",
       "      <td>65</td>\n",
       "      <td>27.0</td>\n",
       "      <td>175.26</td>\n",
       "      <td>L</td>\n",
       "    </tr>\n",
       "    <tr>\n",
       "      <th>4</th>\n",
       "      <td>62</td>\n",
       "      <td>45.0</td>\n",
       "      <td>172.72</td>\n",
       "      <td>M</td>\n",
       "    </tr>\n",
       "    <tr>\n",
       "      <th>...</th>\n",
       "      <td>...</td>\n",
       "      <td>...</td>\n",
       "      <td>...</td>\n",
       "      <td>...</td>\n",
       "    </tr>\n",
       "    <tr>\n",
       "      <th>119729</th>\n",
       "      <td>63</td>\n",
       "      <td>42.0</td>\n",
       "      <td>175.26</td>\n",
       "      <td>M</td>\n",
       "    </tr>\n",
       "    <tr>\n",
       "      <th>119730</th>\n",
       "      <td>45</td>\n",
       "      <td>29.0</td>\n",
       "      <td>154.94</td>\n",
       "      <td>S</td>\n",
       "    </tr>\n",
       "    <tr>\n",
       "      <th>119731</th>\n",
       "      <td>61</td>\n",
       "      <td>31.0</td>\n",
       "      <td>172.72</td>\n",
       "      <td>M</td>\n",
       "    </tr>\n",
       "    <tr>\n",
       "      <th>119732</th>\n",
       "      <td>74</td>\n",
       "      <td>31.0</td>\n",
       "      <td>167.64</td>\n",
       "      <td>XL</td>\n",
       "    </tr>\n",
       "    <tr>\n",
       "      <th>119733</th>\n",
       "      <td>70</td>\n",
       "      <td>30.0</td>\n",
       "      <td>167.64</td>\n",
       "      <td>XL</td>\n",
       "    </tr>\n",
       "  </tbody>\n",
       "</table>\n",
       "<p>119084 rows × 4 columns</p>\n",
       "</div>"
      ],
      "text/plain": [
       "        weight   age  height size\n",
       "0           62  28.0  172.72   XL\n",
       "1           59  36.0  167.64    L\n",
       "2           61  34.0  165.10    M\n",
       "3           65  27.0  175.26    L\n",
       "4           62  45.0  172.72    M\n",
       "...        ...   ...     ...  ...\n",
       "119729      63  42.0  175.26    M\n",
       "119730      45  29.0  154.94    S\n",
       "119731      61  31.0  172.72    M\n",
       "119732      74  31.0  167.64   XL\n",
       "119733      70  30.0  167.64   XL\n",
       "\n",
       "[119084 rows x 4 columns]"
      ]
     },
     "execution_count": 7,
     "metadata": {},
     "output_type": "execute_result"
    }
   ],
   "source": [
    "# Drop XXL records coz there too small\n",
    "data_step_one = data_step_one[data_step_one[\"size\"] != \"XXL\"]\n",
    "data_step_one"
   ]
  },
  {
   "cell_type": "code",
   "execution_count": 8,
   "metadata": {},
   "outputs": [],
   "source": [
    "# Split the data\n",
    "\n",
    "X = data_step_one[[\"weight\", \"age\", \"height\"]]\n",
    "y =data_step_one[\"size\"]"
   ]
  },
  {
   "cell_type": "code",
   "execution_count": 9,
   "metadata": {},
   "outputs": [],
   "source": [
    "X_train, X_test, y_train, y_test = train_test_split(X, y, test_size=0.33)"
   ]
  },
  {
   "cell_type": "code",
   "execution_count": 10,
   "metadata": {},
   "outputs": [
    {
     "data": {
      "text/plain": [
       "0.5020357270090081"
      ]
     },
     "execution_count": 10,
     "metadata": {},
     "output_type": "execute_result"
    }
   ],
   "source": [
    "# Modeling\n",
    "\n",
    "def decision_tree_run(depth=3):\n",
    "    tree_clf = DecisionTreeClassifier(max_depth=depth)\n",
    "    tree_clf.fit(X_train, y_train)\n",
    "    return tree_clf.score(X_test, y_test)\n",
    "\n",
    "decision_tree_run(None)"
   ]
  },
  {
   "cell_type": "code",
   "execution_count": 11,
   "metadata": {},
   "outputs": [],
   "source": [
    "# Create number of trees, depth and parameters\n",
    "accuracy = []\n",
    "tree_depth = list(range(2, 100, 3))"
   ]
  },
  {
   "cell_type": "code",
   "execution_count": 12,
   "metadata": {},
   "outputs": [
    {
     "data": {
      "text/plain": [
       "[0.44661305918876276,\n",
       " 0.5040714540180162,\n",
       " 0.5152170593923355,\n",
       " 0.5162603694844521,\n",
       " 0.5079647819227442,\n",
       " 0.5037406483790524,\n",
       " 0.5021120667718459,\n",
       " 0.5020102804213955,\n",
       " 0.5017303679576569,\n",
       " 0.5019339406585577,\n",
       " 0.5018576008957198,\n",
       " 0.5019339406585577,\n",
       " 0.5019339406585577,\n",
       " 0.5018830474833325,\n",
       " 0.5020102804213955,\n",
       " 0.5018830474833325,\n",
       " 0.5020102804213955,\n",
       " 0.5020866201842333,\n",
       " 0.5018067077204946,\n",
       " 0.5019339406585577,\n",
       " 0.5018576008957198,\n",
       " 0.5020357270090081,\n",
       " 0.5019593872461703,\n",
       " 0.5020102804213955,\n",
       " 0.5019593872461703,\n",
       " 0.5018321543081072,\n",
       " 0.5020866201842333,\n",
       " 0.5019339406585577,\n",
       " 0.5018321543081072,\n",
       " 0.5019848338337829,\n",
       " 0.5019593872461703,\n",
       " 0.5019339406585577,\n",
       " 0.5019339406585577]"
      ]
     },
     "execution_count": 12,
     "metadata": {},
     "output_type": "execute_result"
    }
   ],
   "source": [
    "for i in tree_depth:\n",
    "    accuracy.append(decision_tree_run(i))\n",
    "accuracy"
   ]
  },
  {
   "cell_type": "code",
   "execution_count": 13,
   "metadata": {},
   "outputs": [
    {
     "data": {
      "text/plain": [
       "[<matplotlib.lines.Line2D at 0x1489b20a0>]"
      ]
     },
     "execution_count": 13,
     "metadata": {},
     "output_type": "execute_result"
    },
    {
     "data": {
      "image/png": "[encoded data removed]",
      "text/plain": [
       "<Figure size 432x288 with 1 Axes>"
      ]
     },
     "metadata": {
      "needs_background": "light"
     },
     "output_type": "display_data"
    }
   ],
   "source": [
    "plt.plot(tree_depth, accuracy)"
   ]
  },
  {
   "cell_type": "code",
   "execution_count": 24,
   "metadata": {},
   "outputs": [],
   "source": [
    "# Evaluation\n",
    "tree_clf=DecisionTreeClassifier(max_depth=3)\n",
    "tree_clf.fit(X_train, y_train)\n",
    "\n",
    "tree_clf_view = export_graphviz(\n",
    "    tree_clf, \n",
    "    out_file=\"clothes_tree.dot\",\n",
    "    feature_names = X_train.columns, \n",
    "    rounded= True, \n",
    "    filled=True\n",
    ")\n"
   ]
  },
  {
   "cell_type": "code",
   "execution_count": 29,
   "metadata": {},
   "outputs": [
    {
     "data": {
      "text/html": [
       "<div>\n",
       "<style scoped>\n",
       "    .dataframe tbody tr th:only-of-type {\n",
       "        vertical-align: middle;\n",
       "    }\n",
       "\n",
       "    .dataframe tbody tr th {\n",
       "        vertical-align: top;\n",
       "    }\n",
       "\n",
       "    .dataframe thead th {\n",
       "        text-align: right;\n",
       "    }\n",
       "</style>\n",
       "<table border=\"1\" class=\"dataframe\">\n",
       "  <thead>\n",
       "    <tr style=\"text-align: right;\">\n",
       "      <th></th>\n",
       "      <th>Predictions</th>\n",
       "      <th>Actuals</th>\n",
       "      <th>Matching</th>\n",
       "    </tr>\n",
       "  </thead>\n",
       "  <tbody>\n",
       "    <tr>\n",
       "      <th>0</th>\n",
       "      <td>XL</td>\n",
       "      <td>XL</td>\n",
       "      <td>Correct</td>\n",
       "    </tr>\n",
       "    <tr>\n",
       "      <th>1</th>\n",
       "      <td>M</td>\n",
       "      <td>XXXL</td>\n",
       "      <td>Wrong</td>\n",
       "    </tr>\n",
       "    <tr>\n",
       "      <th>2</th>\n",
       "      <td>XL</td>\n",
       "      <td>XL</td>\n",
       "      <td>Correct</td>\n",
       "    </tr>\n",
       "    <tr>\n",
       "      <th>3</th>\n",
       "      <td>M</td>\n",
       "      <td>L</td>\n",
       "      <td>Wrong</td>\n",
       "    </tr>\n",
       "    <tr>\n",
       "      <th>4</th>\n",
       "      <td>XXXL</td>\n",
       "      <td>XXXL</td>\n",
       "      <td>Correct</td>\n",
       "    </tr>\n",
       "    <tr>\n",
       "      <th>...</th>\n",
       "      <td>...</td>\n",
       "      <td>...</td>\n",
       "      <td>...</td>\n",
       "    </tr>\n",
       "    <tr>\n",
       "      <th>39293</th>\n",
       "      <td>XXXL</td>\n",
       "      <td>XXXL</td>\n",
       "      <td>Correct</td>\n",
       "    </tr>\n",
       "    <tr>\n",
       "      <th>39294</th>\n",
       "      <td>XL</td>\n",
       "      <td>XXXL</td>\n",
       "      <td>Wrong</td>\n",
       "    </tr>\n",
       "    <tr>\n",
       "      <th>39295</th>\n",
       "      <td>M</td>\n",
       "      <td>M</td>\n",
       "      <td>Correct</td>\n",
       "    </tr>\n",
       "    <tr>\n",
       "      <th>39296</th>\n",
       "      <td>S</td>\n",
       "      <td>XXS</td>\n",
       "      <td>Wrong</td>\n",
       "    </tr>\n",
       "    <tr>\n",
       "      <th>39297</th>\n",
       "      <td>S</td>\n",
       "      <td>S</td>\n",
       "      <td>Correct</td>\n",
       "    </tr>\n",
       "  </tbody>\n",
       "</table>\n",
       "<p>39298 rows × 3 columns</p>\n",
       "</div>"
      ],
      "text/plain": [
       "      Predictions Actuals Matching\n",
       "0              XL      XL  Correct\n",
       "1               M    XXXL    Wrong\n",
       "2              XL      XL  Correct\n",
       "3               M       L    Wrong\n",
       "4            XXXL    XXXL  Correct\n",
       "...           ...     ...      ...\n",
       "39293        XXXL    XXXL  Correct\n",
       "39294          XL    XXXL    Wrong\n",
       "39295           M       M  Correct\n",
       "39296           S     XXS    Wrong\n",
       "39297           S       S  Correct\n",
       "\n",
       "[39298 rows x 3 columns]"
      ]
     },
     "execution_count": 29,
     "metadata": {},
     "output_type": "execute_result"
    }
   ],
   "source": [
    "results = pd.DataFrame(data = {\"Predictions\": tree_clf.predict(X_test).tolist(), \"Actuals\": y_test.tolist()})\n",
    "results[\"Matching\"] = results.apply(lambda x: \"Correct\" if x[\"Predictions\"] == x[\"Actuals\"] else \"Wrong\", axis=1)\n",
    "results"
   ]
  },
  {
   "cell_type": "code",
   "execution_count": 38,
   "metadata": {},
   "outputs": [],
   "source": [
    "# TODO \n",
    "\n",
    "correct_wrong_data = results.groupby([\"Actuals\", \"Matching\"])[\"Predictions\"].count().reset_index(name=\"count\")\n",
    "correct_wrong_data[\"Labels\"] = correct_wrong_data[\"Actuals\"] + \" - \" + correct_wrong_data[\"Matching\"]\n",
    "correct_wrong_data[\"Colors\"]  = correct_wrong_data[\"Matching\"].map(lambda x: \"b\" if x == x[\"Correct\"])\n",
    "correct_wrong_data"
   ]
  },
  {
   "cell_type": "code",
   "execution_count": null,
   "metadata": {},
   "outputs": [],
   "source": [
    "plt.figure(figsize=(18, 6))\n",
    "fig = plt.bar(x = correct_wrong_data[\"Labels\"], height=correct_wrong_data[\"Prediction\"])\n",
    "fig"
   ]
  },
  {
   "cell_type": "code",
   "execution_count": null,
   "metadata": {},
   "outputs": [],
   "source": [
    "confusion_matrix(y_test, tree_clf.predict(X_test).tolist(), labels = y_test.unique())"
   ]
  },
  {
   "cell_type": "code",
   "execution_count": null,
   "metadata": {},
   "outputs": [],
   "source": [
    "plot_confusion_matrix(tree_clf, X_test, y_test)"
   ]
  }
 ],
 "metadata": {
  "interpreter": {
   "hash": "809fc1de316875675776cdc9b7bcfd71cfa9e3c881d1c8d8095b8a667dd61585"
  },
  "kernelspec": {
   "display_name": "Python 3.9.7 64-bit ('tensorflowMetal': conda)",
   "name": "python3"
  },
  "language_info": {
   "codemirror_mode": {
    "name": "ipython",
    "version": 3
   },
   "file_extension": ".py",
   "mimetype": "text/x-python",
   "name": "python",
   "nbconvert_exporter": "python",
   "pygments_lexer": "ipython3",
   "version": "3.9.7"
  },
  "orig_nbformat": 4
 },
 "nbformat": 4,
 "nbformat_minor": 2
}
